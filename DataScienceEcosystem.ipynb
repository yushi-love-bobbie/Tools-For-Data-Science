{
 "cells": [
  {
   "cell_type": "markdown",
   "id": "0974b5d2",
   "metadata": {},
   "source": [
    "# Data Science Tools and Ecosystem"
   ]
  },
  {
   "cell_type": "markdown",
   "id": "ca38208c",
   "metadata": {},
   "source": [
    "In this notebook, Data Science Tools and Ecosystem are summarized."
   ]
  },
  {
   "cell_type": "markdown",
   "id": "ce6f2268",
   "metadata": {},
   "source": [
    "**Objectives:**\n",
    "* List popular languages for Data Science\n",
    "* List popular used libraries used by Data Scientists\n",
    "* List popular development environment open source tools for Data Scientists"
   ]
  },
  {
   "cell_type": "markdown",
   "id": "d33aa6fc",
   "metadata": {},
   "source": [
    "Some of the popular languages that Data Scientists use are:\n",
    "1. Python\n",
    "2. R\n",
    "3. SQL"
   ]
  },
  {
   "cell_type": "markdown",
   "id": "9735d657",
   "metadata": {},
   "source": [
    "Some of the commonly used libraries used by Data Scientists include:\n",
    "1. Numpy\n",
    "2. Pandas\n",
    "3. Sklearn"
   ]
  },
  {
   "cell_type": "markdown",
   "id": "4c868ff1",
   "metadata": {},
   "source": [
    "|Data Science Tools|\n",
    "| ------ | \n",
    "| Rstudio|\n",
    "| Jupyter Notebook|\n",
    "| VS Code|"
   ]
  },
  {
   "cell_type": "markdown",
   "id": "9d635d2b",
   "metadata": {},
   "source": [
    "### Below are a few examples of evaluating arithmetic expressions in Python"
   ]
  },
  {
   "cell_type": "code",
   "execution_count": 1,
   "id": "72662c50",
   "metadata": {},
   "outputs": [
    {
     "data": {
      "text/plain": [
       "17"
      ]
     },
     "execution_count": 1,
     "metadata": {},
     "output_type": "execute_result"
    }
   ],
   "source": [
    "# This a simple arithmetic expression to mutiply then add integers\n",
    "(3*4)+5"
   ]
  },
  {
   "cell_type": "code",
   "execution_count": 2,
   "id": "5ef6da73",
   "metadata": {},
   "outputs": [
    {
     "data": {
      "text/plain": [
       "3.3333333333333335"
      ]
     },
     "execution_count": 2,
     "metadata": {},
     "output_type": "execute_result"
    }
   ],
   "source": [
    "# This will convert 200 minutes to hours by diving by 60\n",
    "200.0/60.0"
   ]
  },
  {
   "cell_type": "markdown",
   "id": "220368f8",
   "metadata": {},
   "source": [
    "## Author\n",
    "Yushi Zhao"
   ]
  },
  {
   "cell_type": "markdown",
   "id": "be84f0d1",
   "metadata": {},
   "source": [
    "Ghitub link: https://github.com/yushi-love-bobbie/Tools-For-Data-Science"
   ]
  }
 ],
 "metadata": {
  "kernelspec": {
   "display_name": "Python 3 (ipykernel)",
   "language": "python",
   "name": "python3"
  },
  "language_info": {
   "codemirror_mode": {
    "name": "ipython",
    "version": 3
   },
   "file_extension": ".py",
   "mimetype": "text/x-python",
   "name": "python",
   "nbconvert_exporter": "python",
   "pygments_lexer": "ipython3",
   "version": "3.7.3"
  }
 },
 "nbformat": 4,
 "nbformat_minor": 5
}
